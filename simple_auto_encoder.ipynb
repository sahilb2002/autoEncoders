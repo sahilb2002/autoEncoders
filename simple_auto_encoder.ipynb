{
 "cells": [
  {
   "cell_type": "code",
   "execution_count": 4,
   "source": [
    "from tensorflow import keras\n",
    "from tensorflow.keras import layers, models\n",
    "import numpy as np\n",
    "from tensorflow.keras.datasets import mnist\n",
    "import matplotlib.pyplot as plt"
   ],
   "outputs": [],
   "metadata": {}
  },
  {
   "cell_type": "code",
   "execution_count": 18,
   "source": [
    "def build_autoencoder(input_shape,encoding_dims = 64):\n",
    "    input_layer = layers.Input(shape=input_shape)\n",
    "    encoding_layer = layers.Dense(encoding_dims,activation='relu')(input_layer)\n",
    "    decoding_layer = layers.Dense(input_shape[0],activation='sigmoid')(encoding_layer)\n",
    "\n",
    "    autoencoder = models.Model(inputs=input_layer,outputs=decoding_layer)\n",
    "    encoder = models.Model(inputs=input_layer,outputs = encoding_layer)\n",
    "    decoder_input = layers.Input(shape=(encoding_dims,))\n",
    "    decoder = models.Model(inputs=decoder_input,outputs = autoencoder.layers[-1](decoder_input))\n",
    "\n",
    "    return (autoencoder,encoder,decoder) \n",
    "\n"
   ],
   "outputs": [],
   "metadata": {}
  },
  {
   "cell_type": "code",
   "execution_count": 12,
   "source": [
    "(x_train,_),(x_test,_) = mnist.load_data()\n",
    "print((x_train.shape,x_test.shape))"
   ],
   "outputs": [
    {
     "output_type": "stream",
     "name": "stdout",
     "text": [
      "((60000, 28, 28), (10000, 28, 28))\n"
     ]
    }
   ],
   "metadata": {}
  },
  {
   "cell_type": "code",
   "execution_count": 15,
   "source": [
    "plt.figure(figsize=(20,10))\n",
    "for i in range(10):\n",
    "    plt.subplot(1,10,i+1)\n",
    "    plt.imshow(x_train[i],cmap='gray')\n",
    "    plt.axis('off')\n",
    "plt.show()"
   ],
   "outputs": [
    {
     "output_type": "display_data",
     "data": {
      "text/plain": [
       "<Figure size 1440x720 with 10 Axes>"
      ],
      "image/png": "[encoded data removed]"
     },
     "metadata": {
      "needs_background": "light"
     }
    }
   ],
   "metadata": {}
  },
  {
   "cell_type": "code",
   "execution_count": 16,
   "source": [
    "x_train = x_train.astype('float32')/255\n",
    "x_test = x_test.astype('float32')/255\n",
    "m,h,w = x_train.shape\n",
    "x_train = x_train.reshape(m,h*w)\n",
    "m,h,w = x_test.shape\n",
    "x_test = x_test.reshape(m,h*w)"
   ],
   "outputs": [],
   "metadata": {}
  },
  {
   "cell_type": "code",
   "execution_count": 19,
   "source": [
    "autoencoder,encoder,decoder = build_autoencoder(x_train[0].shape)\n",
    "autoencoder.compile(optimizer='adam',loss='binary_crossentropy')\n",
    "autoencoder.fit(x_train,x_train,epochs=100,batch_size=256)"
   ],
   "outputs": [
    {
     "output_type": "stream",
     "name": "stderr",
     "text": [
      "2021-07-23 17:44:34.312438: I tensorflow/compiler/mlir/mlir_graph_optimization_pass.cc:176] None of the MLIR Optimization Passes are enabled (registered 2)\n",
      "2021-07-23 17:44:34.334346: I tensorflow/core/platform/profile_utils/cpu_utils.cc:114] CPU Frequency: 2894680000 Hz\n"
     ]
    },
    {
     "output_type": "stream",
     "name": "stdout",
     "text": [
      "Epoch 1/100\n",
      "235/235 [==============================] - 2s 5ms/step - loss: 0.2456\n",
      "Epoch 2/100\n",
      "235/235 [==============================] - 1s 5ms/step - loss: 0.1416\n",
      "Epoch 3/100\n",
      "235/235 [==============================] - 1s 5ms/step - loss: 0.1157\n",
      "Epoch 4/100\n",
      "235/235 [==============================] - 1s 5ms/step - loss: 0.1018\n",
      "Epoch 5/100\n",
      "235/235 [==============================] - 1s 5ms/step - loss: 0.0932\n",
      "Epoch 6/100\n",
      "235/235 [==============================] - 1s 5ms/step - loss: 0.0874\n",
      "Epoch 7/100\n",
      "235/235 [==============================] - 1s 5ms/step - loss: 0.0834\n",
      "Epoch 8/100\n",
      "235/235 [==============================] - 1s 5ms/step - loss: 0.0806\n",
      "Epoch 9/100\n",
      "235/235 [==============================] - 1s 5ms/step - loss: 0.0788\n",
      "Epoch 10/100\n",
      "235/235 [==============================] - 1s 5ms/step - loss: 0.0775\n",
      "Epoch 11/100\n",
      "235/235 [==============================] - 1s 5ms/step - loss: 0.0766\n",
      "Epoch 12/100\n",
      "235/235 [==============================] - 1s 5ms/step - loss: 0.0759\n",
      "Epoch 13/100\n",
      "235/235 [==============================] - 1s 5ms/step - loss: 0.0754\n",
      "Epoch 14/100\n",
      "235/235 [==============================] - 1s 6ms/step - loss: 0.0749\n",
      "Epoch 15/100\n",
      "235/235 [==============================] - 1s 5ms/step - loss: 0.0746\n",
      "Epoch 16/100\n",
      "235/235 [==============================] - 1s 5ms/step - loss: 0.0744\n",
      "Epoch 17/100\n",
      "235/235 [==============================] - 1s 5ms/step - loss: 0.0741\n",
      "Epoch 18/100\n",
      "235/235 [==============================] - 1s 5ms/step - loss: 0.0740\n",
      "Epoch 19/100\n",
      "235/235 [==============================] - 1s 5ms/step - loss: 0.0738\n",
      "Epoch 20/100\n",
      "235/235 [==============================] - 1s 5ms/step - loss: 0.0737\n",
      "Epoch 21/100\n",
      "235/235 [==============================] - 1s 5ms/step - loss: 0.0736\n",
      "Epoch 22/100\n",
      "235/235 [==============================] - 1s 5ms/step - loss: 0.0735\n",
      "Epoch 23/100\n",
      "235/235 [==============================] - 1s 5ms/step - loss: 0.0734\n",
      "Epoch 24/100\n",
      "235/235 [==============================] - 1s 5ms/step - loss: 0.0734\n",
      "Epoch 25/100\n",
      "235/235 [==============================] - 1s 5ms/step - loss: 0.0733\n",
      "Epoch 26/100\n",
      "235/235 [==============================] - 1s 5ms/step - loss: 0.0733\n",
      "Epoch 27/100\n",
      "235/235 [==============================] - 1s 5ms/step - loss: 0.0732\n",
      "Epoch 28/100\n",
      "235/235 [==============================] - 1s 5ms/step - loss: 0.0732\n",
      "Epoch 29/100\n",
      "235/235 [==============================] - 1s 5ms/step - loss: 0.0731\n",
      "Epoch 30/100\n",
      "235/235 [==============================] - 1s 5ms/step - loss: 0.0731\n",
      "Epoch 31/100\n",
      "235/235 [==============================] - 1s 5ms/step - loss: 0.0731\n",
      "Epoch 32/100\n",
      "235/235 [==============================] - 1s 5ms/step - loss: 0.0730\n",
      "Epoch 33/100\n",
      "235/235 [==============================] - 1s 5ms/step - loss: 0.0730\n",
      "Epoch 34/100\n",
      "235/235 [==============================] - 1s 5ms/step - loss: 0.0730\n",
      "Epoch 35/100\n",
      "235/235 [==============================] - 1s 5ms/step - loss: 0.0729\n",
      "Epoch 36/100\n",
      "235/235 [==============================] - 1s 5ms/step - loss: 0.0729\n",
      "Epoch 37/100\n",
      "235/235 [==============================] - 1s 5ms/step - loss: 0.0729\n",
      "Epoch 38/100\n",
      "235/235 [==============================] - 1s 5ms/step - loss: 0.0729\n",
      "Epoch 39/100\n",
      "235/235 [==============================] - 1s 5ms/step - loss: 0.0729\n",
      "Epoch 40/100\n",
      "235/235 [==============================] - 1s 5ms/step - loss: 0.0728\n",
      "Epoch 41/100\n",
      "235/235 [==============================] - 1s 5ms/step - loss: 0.0728\n",
      "Epoch 42/100\n",
      "235/235 [==============================] - 1s 5ms/step - loss: 0.0728\n",
      "Epoch 43/100\n",
      "235/235 [==============================] - 1s 5ms/step - loss: 0.0728\n",
      "Epoch 44/100\n",
      "235/235 [==============================] - 1s 5ms/step - loss: 0.0728\n",
      "Epoch 45/100\n",
      "235/235 [==============================] - 1s 5ms/step - loss: 0.0728\n",
      "Epoch 46/100\n",
      "235/235 [==============================] - 1s 5ms/step - loss: 0.0728\n",
      "Epoch 47/100\n",
      "235/235 [==============================] - 1s 5ms/step - loss: 0.0728\n",
      "Epoch 48/100\n",
      "235/235 [==============================] - 1s 5ms/step - loss: 0.0727\n",
      "Epoch 49/100\n",
      "235/235 [==============================] - 1s 5ms/step - loss: 0.0727\n",
      "Epoch 50/100\n",
      "235/235 [==============================] - 1s 5ms/step - loss: 0.0727\n",
      "Epoch 51/100\n",
      "235/235 [==============================] - 1s 5ms/step - loss: 0.0727\n",
      "Epoch 52/100\n",
      "235/235 [==============================] - 1s 5ms/step - loss: 0.0727\n",
      "Epoch 53/100\n",
      "235/235 [==============================] - 1s 5ms/step - loss: 0.0727\n",
      "Epoch 54/100\n",
      "235/235 [==============================] - 1s 5ms/step - loss: 0.0727\n",
      "Epoch 55/100\n",
      "235/235 [==============================] - 1s 6ms/step - loss: 0.0727\n",
      "Epoch 56/100\n",
      "235/235 [==============================] - 1s 5ms/step - loss: 0.0727\n",
      "Epoch 57/100\n",
      "235/235 [==============================] - 1s 5ms/step - loss: 0.0727\n",
      "Epoch 58/100\n",
      "235/235 [==============================] - 1s 5ms/step - loss: 0.0727\n",
      "Epoch 59/100\n",
      "235/235 [==============================] - 1s 5ms/step - loss: 0.0726\n",
      "Epoch 60/100\n",
      "235/235 [==============================] - 1s 5ms/step - loss: 0.0726\n",
      "Epoch 61/100\n",
      "235/235 [==============================] - 1s 5ms/step - loss: 0.0726\n",
      "Epoch 62/100\n",
      "235/235 [==============================] - 1s 5ms/step - loss: 0.0726\n",
      "Epoch 63/100\n",
      "235/235 [==============================] - 1s 5ms/step - loss: 0.0726\n",
      "Epoch 64/100\n",
      "235/235 [==============================] - 1s 5ms/step - loss: 0.0726\n",
      "Epoch 65/100\n",
      "235/235 [==============================] - 1s 5ms/step - loss: 0.0726\n",
      "Epoch 66/100\n",
      "235/235 [==============================] - 1s 5ms/step - loss: 0.0726\n",
      "Epoch 67/100\n",
      "235/235 [==============================] - 1s 5ms/step - loss: 0.0726\n",
      "Epoch 68/100\n",
      "235/235 [==============================] - 1s 5ms/step - loss: 0.0726\n",
      "Epoch 69/100\n",
      "235/235 [==============================] - 1s 5ms/step - loss: 0.0726\n",
      "Epoch 70/100\n",
      "235/235 [==============================] - 1s 5ms/step - loss: 0.0726\n",
      "Epoch 71/100\n",
      "235/235 [==============================] - 1s 4ms/step - loss: 0.0726\n",
      "Epoch 72/100\n",
      "235/235 [==============================] - 1s 5ms/step - loss: 0.0726\n",
      "Epoch 73/100\n",
      "235/235 [==============================] - 1s 5ms/step - loss: 0.0726\n",
      "Epoch 74/100\n",
      "235/235 [==============================] - 1s 5ms/step - loss: 0.0726\n",
      "Epoch 75/100\n",
      "235/235 [==============================] - 1s 5ms/step - loss: 0.0726\n",
      "Epoch 76/100\n",
      "235/235 [==============================] - 1s 5ms/step - loss: 0.0726\n",
      "Epoch 77/100\n",
      "235/235 [==============================] - 1s 5ms/step - loss: 0.0726\n",
      "Epoch 78/100\n",
      "235/235 [==============================] - 1s 5ms/step - loss: 0.0726\n",
      "Epoch 79/100\n",
      "235/235 [==============================] - 1s 5ms/step - loss: 0.0726\n",
      "Epoch 80/100\n",
      "235/235 [==============================] - 1s 5ms/step - loss: 0.0725\n",
      "Epoch 81/100\n",
      "235/235 [==============================] - 1s 5ms/step - loss: 0.0725\n",
      "Epoch 82/100\n",
      "235/235 [==============================] - 1s 5ms/step - loss: 0.0725\n",
      "Epoch 83/100\n",
      "235/235 [==============================] - 1s 5ms/step - loss: 0.0725\n",
      "Epoch 84/100\n",
      "235/235 [==============================] - 1s 5ms/step - loss: 0.0725\n",
      "Epoch 85/100\n",
      "235/235 [==============================] - 1s 5ms/step - loss: 0.0725\n",
      "Epoch 86/100\n",
      "235/235 [==============================] - 1s 5ms/step - loss: 0.0725\n",
      "Epoch 87/100\n",
      "235/235 [==============================] - 1s 5ms/step - loss: 0.0725\n",
      "Epoch 88/100\n",
      "235/235 [==============================] - 1s 5ms/step - loss: 0.0725\n",
      "Epoch 89/100\n",
      "235/235 [==============================] - 1s 5ms/step - loss: 0.0725\n",
      "Epoch 90/100\n",
      "235/235 [==============================] - 1s 5ms/step - loss: 0.0725\n",
      "Epoch 91/100\n",
      "235/235 [==============================] - 1s 5ms/step - loss: 0.0725\n",
      "Epoch 92/100\n",
      "235/235 [==============================] - 1s 5ms/step - loss: 0.0725\n",
      "Epoch 93/100\n",
      "235/235 [==============================] - 1s 5ms/step - loss: 0.0725\n",
      "Epoch 94/100\n",
      "235/235 [==============================] - 1s 5ms/step - loss: 0.0725\n",
      "Epoch 95/100\n",
      "235/235 [==============================] - 1s 5ms/step - loss: 0.0725\n",
      "Epoch 96/100\n",
      "235/235 [==============================] - 1s 5ms/step - loss: 0.0725\n",
      "Epoch 97/100\n",
      "235/235 [==============================] - 1s 5ms/step - loss: 0.0725\n",
      "Epoch 98/100\n",
      "235/235 [==============================] - 1s 5ms/step - loss: 0.0725\n",
      "Epoch 99/100\n",
      "235/235 [==============================] - 1s 5ms/step - loss: 0.0725\n",
      "Epoch 100/100\n",
      "235/235 [==============================] - 1s 5ms/step - loss: 0.0725\n"
     ]
    },
    {
     "output_type": "execute_result",
     "data": {
      "text/plain": [
       "<tensorflow.python.keras.callbacks.History at 0x7f7264030520>"
      ]
     },
     "metadata": {},
     "execution_count": 19
    }
   ],
   "metadata": {}
  },
  {
   "cell_type": "code",
   "execution_count": 20,
   "source": [
    "result = autoencoder.evaluate(x_test,x_test)\n",
    "print(result)"
   ],
   "outputs": [
    {
     "output_type": "stream",
     "name": "stdout",
     "text": [
      "313/313 [==============================] - 1s 2ms/step - loss: 0.0721\n",
      "0.07211178541183472\n"
     ]
    }
   ],
   "metadata": {}
  },
  {
   "cell_type": "code",
   "execution_count": 21,
   "source": [
    "encoded_imgs = encoder.predict(x_test)\n",
    "print(encoded_imgs.shape)\n",
    "decoded_imgs = decoder.predict(encoded_imgs)\n",
    "print(decoded_imgs.shape)\n",
    "output_imgs = decoded_imgs.reshape(len(decoded_imgs),28,28)\n",
    "print(output_imgs.shape)"
   ],
   "outputs": [
    {
     "output_type": "stream",
     "name": "stdout",
     "text": [
      "(10000, 64)\n",
      "(10000, 784)\n",
      "(10000, 28, 28)\n"
     ]
    }
   ],
   "metadata": {}
  },
  {
   "cell_type": "code",
   "execution_count": 24,
   "source": [
    "input_imgs = x_test.reshape(10000,28,28)\n",
    "n = 10\n",
    "plt.figure(figsize=(20,10))\n",
    "for i in range(n):\n",
    "    plt.subplot(2,n,i+1)\n",
    "    plt.imshow(input_imgs[i],cmap='gray')\n",
    "    plt.axis('off')\n",
    "\n",
    "    plt.subplot(2,n,i+1+n)\n",
    "    plt.imshow(output_imgs[i],cmap='gray')\n",
    "    plt.axis('off')\n",
    "plt.show()\n"
   ],
   "outputs": [
    {
     "output_type": "display_data",
     "data": {
      "text/plain": [
       "<Figure size 1440x720 with 20 Axes>"
      ],
      "image/png": "[encoded data removed]"
     },
     "metadata": {
      "needs_background": "light"
     }
    }
   ],
   "metadata": {}
  },
  {
   "cell_type": "code",
   "execution_count": null,
   "source": [],
   "outputs": [],
   "metadata": {}
  }
 ],
 "metadata": {
  "orig_nbformat": 4,
  "language_info": {
   "name": "python",
   "version": "3.8.10",
   "mimetype": "text/x-python",
   "codemirror_mode": {
    "name": "ipython",
    "version": 3
   },
   "pygments_lexer": "ipython3",
   "nbconvert_exporter": "python",
   "file_extension": ".py"
  },
  "kernelspec": {
   "name": "python3",
   "display_name": "Python 3.8.10 64-bit"
  },
  "interpreter": {
   "hash": "31f2aee4e71d21fbe5cf8b01ff0e069b9275f58929596ceb00d14d90e3e16cd6"
  }
 },
 "nbformat": 4,
 "nbformat_minor": 2
}